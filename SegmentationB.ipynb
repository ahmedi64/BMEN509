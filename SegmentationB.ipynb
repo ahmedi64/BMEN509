{
 "cells": [
  {
   "cell_type": "code",
   "execution_count": 2,
   "metadata": {},
   "outputs": [
    {
     "ename": "ModuleNotFoundError",
     "evalue": "No module named 'sklearn'",
     "output_type": "error",
     "traceback": [
      "\u001b[1;31m---------------------------------------------------------------------------\u001b[0m",
      "\u001b[1;31mModuleNotFoundError\u001b[0m                       Traceback (most recent call last)",
      "Input \u001b[1;32mIn [2]\u001b[0m, in \u001b[0;36m<module>\u001b[1;34m\u001b[0m\n\u001b[0;32m      3\u001b[0m \u001b[38;5;28;01mimport\u001b[39;00m \u001b[38;5;21;01mnumpy\u001b[39;00m \u001b[38;5;28;01mas\u001b[39;00m \u001b[38;5;21;01mnp\u001b[39;00m\n\u001b[0;32m      4\u001b[0m \u001b[38;5;28;01mimport\u001b[39;00m \u001b[38;5;21;01mmatplotlib\u001b[39;00m\u001b[38;5;21;01m.\u001b[39;00m\u001b[38;5;21;01mpyplot\u001b[39;00m \u001b[38;5;28;01mas\u001b[39;00m \u001b[38;5;21;01mplt\u001b[39;00m\n\u001b[1;32m----> 5\u001b[0m \u001b[38;5;28;01mfrom\u001b[39;00m \u001b[38;5;21;01msklearn\u001b[39;00m\u001b[38;5;21;01m.\u001b[39;00m\u001b[38;5;21;01mmodel_selection\u001b[39;00m \u001b[38;5;28;01mimport\u001b[39;00m train_test_split\n\u001b[0;32m      7\u001b[0m \u001b[38;5;66;03m# Loading/Preprocessing data\u001b[39;00m\n\u001b[0;32m      9\u001b[0m \u001b[38;5;28;01mdef\u001b[39;00m \u001b[38;5;21mload_data\u001b[39m(data_dir, img_size\u001b[38;5;241m=\u001b[39m(\u001b[38;5;241m128\u001b[39m, \u001b[38;5;241m128\u001b[39m)):\n",
      "\u001b[1;31mModuleNotFoundError\u001b[0m: No module named 'sklearn'"
     ]
    }
   ],
   "source": [
    "import os\n",
    "import cv2\n",
    "import numpy as np\n",
    "import matplotlib.pyplot as plt\n",
    "from sklearn.model_selection import train_test_split\n",
    "\n",
    "# Loading/Preprocessing data\n",
    "\n",
    "def load_data(data_dir, img_size=(128, 128)):\n",
    "    images, masks = [], []\n",
    "    categories = ['Glioma', 'Meningioma', 'Pituitary tumor']\n",
    "    \n",
    "    for category in categories:\n",
    "        folder = os.path.join(data_dir, category)\n",
    "        for file in os.listdir(folder):\n",
    "            if '_mask' not in file:\n",
    "                img_path = os.path.join(folder, file)\n",
    "                mask_path = os.path.join(folder, file.split('.')[0] + '_mask.png')\n",
    "                \n",
    "                # Load grayscale image and mask\n",
    "                img = cv2.imread(img_path, cv2.IMREAD_GRAYSCALE)\n",
    "                mask = cv2.imread(mask_path, cv2.IMREAD_GRAYSCALE)\n",
    "                \n",
    "                if img is None or mask is None:\n",
    "                    continue  # skip if file is broken\n",
    "                \n",
    "                # Resize\n",
    "                img = cv2.resize(img, img_size)\n",
    "                mask = cv2.resize(mask, img_size)\n",
    "                \n",
    "                # Preprocess\n",
    "                img = cv2.GaussianBlur(img, (3, 3), 0)  # Blur to remove noise\n",
    "                img = img / 255.0                       # Normalize Image\n",
    "                mask = mask / 255.0                     # Normalize mask \n",
    "                \n",
    "                images.append(img)\n",
    "                masks.append(mask)\n",
    "    \n",
    "    return np.array(images), np.array(masks)\n",
    "\n",
    "# Load data\n",
    "X, Y = load_data('data/')\n",
    "\n",
    "print(f\"Loaded {len(X)} MRI scans.\")\n",
    "\n",
    "\n",
    "plt.figure(figsize=(10, 3))\n",
    "for i in range(3):\n",
    "    plt.subplot(2, 3, i+1)\n",
    "    plt.imshow(X[i], cmap='gray')\n",
    "    plt.title(\"MRI Image\")\n",
    "    plt.axis('off')\n",
    "    \n",
    "    plt.subplot(2, 3, i+4)\n",
    "    plt.imshow(Y[i], cmap='Reds')\n",
    "    plt.title(\"Ground Truth Mask\")\n",
    "    plt.axis('off')\n",
    "plt.tight_layout()\n",
    "plt.show()\n"
   ]
  },
  {
   "cell_type": "code",
   "execution_count": null,
   "metadata": {},
   "outputs": [],
   "source": [
    "def simple_segmentation(img):\n",
    "# Otsu's thresholding\n",
    "    img_uint8 = (img * 255).astype(np.uint8) \n",
    "    _, thresh = cv2.threshold(img_uint8, 0, 1, cv2.THRESH_BINARY + cv2.THRESH_OTSU)\n",
    "    return thresh\n"
   ]
  },
  {
   "cell_type": "code",
   "execution_count": null,
   "metadata": {},
   "outputs": [],
   "source": [
    "def dice_coef(pred, truth):\n",
    "    pred = pred.astype(np.float32).flatten()\n",
    "    truth = truth.astype(np.float32).flatten()\n",
    "    intersection = np.sum(pred * truth)\n",
    "    return (2. * intersection + 1e-6) / (np.sum(pred) + np.sum(truth) + 1e-6)\n"
   ]
  },
  {
   "cell_type": "code",
   "execution_count": null,
   "metadata": {},
   "outputs": [],
   "source": [
    "i = 0  # Choose a sample\n",
    "\n",
    "original = X[i]\n",
    "ground_truth = Y[i]\n",
    "predicted = simple_segmentation(original)\n",
    "\n",
    "# Dice score\n",
    "dice = dice_coef(predicted, ground_truth)\n",
    "print(f\"Dice Score: {dice:.4f}\")\n",
    "\n",
    "# Show overlay\n",
    "plt.figure(figsize=(12, 4))\n",
    "\n",
    "plt.subplot(1, 3, 1)\n",
    "plt.imshow(original, cmap='gray')\n",
    "plt.title(\"Original MRI\")\n",
    "plt.axis('off')\n",
    "\n",
    "plt.subplot(1, 3, 2)\n",
    "plt.imshow(predicted, cmap='Reds')\n",
    "plt.title(\"Predicted Mask\")\n",
    "plt.axis('off')\n",
    "\n",
    "plt.subplot(1, 3, 3)\n",
    "plt.imshow(original, cmap='gray')\n",
    "plt.imshow(predicted, cmap='Reds', alpha=0.4)\n",
    "plt.title(\"Overlay\")\n",
    "plt.axis('off')\n",
    "\n",
    "plt.tight_layout()\n",
    "plt.show()\n"
   ]
  }
 ],
 "metadata": {
  "kernelspec": {
   "display_name": "Python 3",
   "language": "python",
   "name": "python3"
  },
  "language_info": {
   "codemirror_mode": {
    "name": "ipython",
    "version": 3
   },
   "file_extension": ".py",
   "mimetype": "text/x-python",
   "name": "python",
   "nbconvert_exporter": "python",
   "pygments_lexer": "ipython3",
   "version": "3.9.13"
  }
 },
 "nbformat": 4,
 "nbformat_minor": 2
}
